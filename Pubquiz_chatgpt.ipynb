{
  "nbformat": 4,
  "nbformat_minor": 0,
  "metadata": {
    "colab": {
      "provenance": [],
      "authorship_tag": "ABX9TyMDh4Kt2esHqt0QH8kb0MvP"
    },
    "kernelspec": {
      "name": "python3",
      "display_name": "Python 3"
    },
    "language_info": {
      "name": "python"
    }
  },
  "cells": [
    {
      "cell_type": "markdown",
      "source": [
        "# Pubquiz-chatGPT für alle!\n",
        "\n",
        "[HARALD ist umgezogen!](https://github.com/JanEggers-hr/chatgpt-playground/blob/main/harald_gpt.ipynb)"
      ],
      "metadata": {
        "id": "1_46PotrvXDh"
      }
    }
  ]
}