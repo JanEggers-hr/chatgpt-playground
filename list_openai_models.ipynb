{
  "nbformat": 4,
  "nbformat_minor": 0,
  "metadata": {
    "colab": {
      "provenance": [],
      "history_visible": true,
      "authorship_tag": "ABX9TyMNKVIDk9L5WgUIKpJnNIf4",
      "include_colab_link": true
    },
    "kernelspec": {
      "name": "python3",
      "display_name": "Python 3"
    },
    "language_info": {
      "name": "python"
    }
  },
  "cells": [
    {
      "cell_type": "markdown",
      "metadata": {
        "id": "view-in-github",
        "colab_type": "text"
      },
      "source": [
        "<a href=\"https://colab.research.google.com/github/JanEggers-hr/chatgpt-playground/blob/main/list_openai_models.ipynb\" target=\"_parent\"><img src=\"https://colab.research.google.com/assets/colab-badge.svg\" alt=\"Open In Colab\"/></a>"
      ]
    },
    {
      "cell_type": "markdown",
      "source": [
        "# Liste der verfügbaren Modelle\n",
        "\n",
        "\n",
        "Ausgabe der Modelle, die man mit dem eingegebenen OpenAI-Key benutzen kann - mit den entsprechenden Parametern. \n",
        "\n",
        "Auf den \"Play\"-Button klicken, OpenAI-Token eingeben, Modell aus dem Dropdown-Menü auswählen. "
      ],
      "metadata": {
        "id": "JI-4iYFZk0kw"
      }
    },
    {
      "cell_type": "code",
      "execution_count": null,
      "metadata": {
        "cellView": "form",
        "id": "VX8ZVSAVf9hb"
      },
      "outputs": [],
      "source": [
        "#@title\n",
        "# ipywidgets ist schon installiert\n",
        "import ipywidgets as widgets\n",
        "from IPython.display import display\n",
        "\n",
        "# OpenAI-API-Library einbinden\n",
        "!pip install -q openai\n",
        "import openai\n",
        "print(\"OpenAI-API-Library geladen.\")\n",
        "\n",
        "from getpass import getpass\n",
        "openai.api_key = getpass(\"OpenAI-API-Key eingeben: \")\n",
        "\n",
        "models = openai.Model.list()['data']\n",
        "\n",
        "model_names = [model[\"id\"] for model in models]\n",
        "model_select = widgets.Dropdown(options=model_names,\n",
        "                                description=\"Available Models\")\n",
        "\n",
        "model_info = widgets.Output(layout = {'border': '1px solid black'})\n",
        "display(model_select)\n",
        "display(model_info)\n",
        "\n",
        "def display_model(h):\n",
        "  model_info.clear_output()\n",
        "  with model_info:\n",
        "    print(h)\n",
        "\n",
        "def on_model_select(change):\n",
        "    model_id = change[\"new\"]\n",
        "    m = next((model for model in models if model[\"id\"] == model_id), None)\n",
        "    if m:\n",
        "        description = m[\"permission\"]\n",
        "        display_model(description)\n",
        "        \n",
        "model_select.observe(on_model_select, names=\"value\")"
      ]
    }
  ]
}