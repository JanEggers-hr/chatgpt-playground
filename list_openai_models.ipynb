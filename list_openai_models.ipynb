{
  "nbformat": 4,
  "nbformat_minor": 0,
  "metadata": {
    "colab": {
      "provenance": [],
      "history_visible": true,
      "authorship_tag": "ABX9TyNFLmjOIj6wz7feFYboswuY",
      "include_colab_link": true
    },
    "kernelspec": {
      "name": "python3",
      "display_name": "Python 3"
    },
    "language_info": {
      "name": "python"
    }
  },
  "cells": [
    {
      "cell_type": "markdown",
      "metadata": {
        "id": "view-in-github",
        "colab_type": "text"
      },
      "source": [
        "<a href=\"https://colab.research.google.com/github/JanEggers-hr/chatgpt-playground/blob/main/list_openai_models.ipynb\" target=\"_parent\"><img src=\"https://colab.research.google.com/assets/colab-badge.svg\" alt=\"Open In Colab\"/></a>"
      ]
    },
    {
      "cell_type": "markdown",
      "source": [
        "# Liste der verfügbaren Modelle\n",
        "\n",
        "\n",
        "Ausgabe der Modelle, die man mit dem eingegebenen OpenAI-Key benutzen kann - mit den entsprechenden Parametern.\n",
        "\n",
        "Auf den \"Play\"-Button klicken, OpenAI-Token eingeben, Modell aus dem Dropdown-Menü auswählen."
      ],
      "metadata": {
        "id": "JI-4iYFZk0kw"
      }
    },
    {
      "cell_type": "code",
      "execution_count": null,
      "metadata": {
        "id": "VX8ZVSAVf9hb",
        "cellView": "form"
      },
      "outputs": [],
      "source": [
        "#@title\n",
        "# zuletzt upgedated 20.12.2023\n",
        "#\n",
        "# v2.1 -  angepasst an neue API, Infos zu Modellen auswählbar\n",
        "\n",
        "\n",
        "# ipywidgets ist schon installiert\n",
        "import ipywidgets as widgets\n",
        "from IPython.display import display\n",
        "from datetime import datetime\n",
        "\n",
        "# OpenAI-API-Library einbinden\n",
        "!pip install -q openai\n",
        "from openai import OpenAI\n",
        "print(\"OpenAI-API-Library geladen.\")\n",
        "\n",
        "from getpass import getpass\n",
        "key_needed = True\n",
        "while key_needed:\n",
        "    try:\n",
        "        # Testweise Modelle abfragen\n",
        "        ai_client = OpenAI(api_key = getpass(\"OpenAI-API-Key eingeben: \"))\n",
        "        models = ai_client.models.list()\n",
        "        # Returns a list of model objects\n",
        "        # Erfolg?\n",
        "        print(\"API-Key gültig!\")\n",
        "        key_needed = False\n",
        "    except Exception as e:\n",
        "        print(\"Fehler bei Abfrage; ist der API-Key möglicherweise ungültig?\", e)\n",
        "\n",
        "model_names = [model.id for model in models.data]\n",
        "\n",
        "model_select = widgets.Dropdown(options=sorted(model_names),\n",
        "                                description=\"Infos zu:\")\n",
        "\n",
        "model_info = widgets.Output(layout = {'border': '1px solid black'},\n",
        "                            description = 'Creation Date')\n",
        "\n",
        "def display_model(h):\n",
        "  model_info.clear_output()\n",
        "  with model_info:\n",
        "    print(h)\n",
        "\n",
        "def on_model_select(change):\n",
        "    model_id = change[\"new\"]\n",
        "    m = next((model for model in models if model.id == model_id), None)\n",
        "    if m:\n",
        "        description = f\"Creation date: {m.created} ({datetime.utcfromtimestamp(m.created)}), type: {m.object}, owned by: {m.owned_by}\"\n",
        "        display_model(description)\n",
        "\n",
        "model_select.observe(on_model_select, names=\"value\")\n",
        "\n",
        "display(model_select)\n",
        "display(model_info)\n",
        "\n",
        "print(\"Verfügbare Modelle für diesen API-Key:\")\n",
        "print()\n",
        "for m in sorted(model_names):\n",
        "    print(\"-\",m)\n",
        "\n"
      ]
    }
  ]
}